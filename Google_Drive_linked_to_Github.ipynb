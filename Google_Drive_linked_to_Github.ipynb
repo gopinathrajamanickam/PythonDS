{
  "nbformat": 4,
  "nbformat_minor": 0,
  "metadata": {
    "colab": {
      "name": "Google Drive linked to  Github.ipynb",
      "provenance": [],
      "authorship_tag": "ABX9TyOQXt8aj8QCO/W4asO8GDGL",
      "include_colab_link": true
    },
    "kernelspec": {
      "name": "python3",
      "display_name": "Python 3"
    }
  },
  "cells": [
    {
      "cell_type": "markdown",
      "metadata": {
        "id": "view-in-github",
        "colab_type": "text"
      },
      "source": [
        "<a href=\"https://colab.research.google.com/github/gopinathrajamanickam/PythonDS/blob/main/Google_Drive_linked_to_Github.ipynb\" target=\"_parent\"><img src=\"https://colab.research.google.com/assets/colab-badge.svg\" alt=\"Open In Colab\"/></a>"
      ]
    },
    {
      "cell_type": "code",
      "metadata": {
        "colab": {
          "base_uri": "https://localhost:8080/"
        },
        "id": "Ywu3aRJ8bPDt",
        "outputId": "a78fb3fc-db66-427c-ea6e-f472ab352f10"
      },
      "source": [
        "from google.colab import drive\n",
        "drive.mount('/content/drive')"
      ],
      "execution_count": 1,
      "outputs": [
        {
          "output_type": "stream",
          "text": [
            "Mounted at /content/drive\n"
          ],
          "name": "stdout"
        }
      ]
    },
    {
      "cell_type": "code",
      "metadata": {
        "colab": {
          "base_uri": "https://localhost:8080/"
        },
        "id": "AIcMXeZabrvs",
        "outputId": "29a95ea6-f702-47f5-dffa-5a0cb4f17192"
      },
      "source": [
        "%cd drive/My\\ Drive/"
      ],
      "execution_count": 2,
      "outputs": [
        {
          "output_type": "stream",
          "text": [
            "/content/drive/My Drive\n"
          ],
          "name": "stdout"
        }
      ]
    },
    {
      "cell_type": "code",
      "metadata": {
        "colab": {
          "base_uri": "https://localhost:8080/"
        },
        "id": "22991C08bt7p",
        "outputId": "72a9b8cb-52c5-4f53-f4a7-be88b2d270ea"
      },
      "source": [
        "%cd Data\\ Science"
      ],
      "execution_count": 5,
      "outputs": [
        {
          "output_type": "stream",
          "text": [
            "/content/drive/My Drive/Data Science\n"
          ],
          "name": "stdout"
        }
      ]
    },
    {
      "cell_type": "code",
      "metadata": {
        "colab": {
          "base_uri": "https://localhost:8080/"
        },
        "id": "gjTkJZ9kcEb_",
        "outputId": "297b6a4c-c0d8-4a25-dcc2-9fc0b3b50ed1"
      },
      "source": [
        "%ls"
      ],
      "execution_count": 6,
      "outputs": [
        {
          "output_type": "stream",
          "text": [
            " aa2.pdf\n",
            "'Cheatbook for Data Scientist.pdf'\n",
            "'Cracking_the_Coding_Interview_6th_Editio (1).pdf'\n",
            "'Employee Risk Attrition Assessment Report (Recovered).gdoc'\n",
            "'Great America.html'\n",
            "'https:  medium.130 projects.txt'\n",
            " \u001b[0m\u001b[01;34mLynda\u001b[0m/\n",
            "'Matillion-Optimizing Google BigQuery v3.pdf'\n",
            "'PowerfulPythonPlaybook (1).pdf'\n",
            " PowerfulPythonPlaybook.pdf\n",
            "'Python Design Patterns Guide | Toptal'\n",
            "'Quick Refernce Sheet - ML, AI & Deep Learning.pdf'\n",
            " SQL.pdf\n",
            "'The Data Engineering Cookbook.pdf'\n",
            "'Unified Analytics For Data and AI, Databricks Special Edition (1).pdf'\n",
            "'Unified Analytics For Data and AI, Databricks Special Edition.pdf'\n",
            " Using-the-Lynda-App.pdf\n",
            " winterfest_at_california_s_great_america.pdf\n"
          ],
          "name": "stdout"
        }
      ]
    },
    {
      "cell_type": "code",
      "metadata": {
        "id": "QFfEAA-6cGzD"
      },
      "source": [
        "%mkdir github"
      ],
      "execution_count": 7,
      "outputs": []
    },
    {
      "cell_type": "code",
      "metadata": {
        "colab": {
          "base_uri": "https://localhost:8080/"
        },
        "id": "-cYowDQ-cSQL",
        "outputId": "da349966-4592-4a71-dbc0-d7e8a5e49b01"
      },
      "source": [
        "%cd github/"
      ],
      "execution_count": 8,
      "outputs": [
        {
          "output_type": "stream",
          "text": [
            "/content/drive/My Drive/Data Science/github\n"
          ],
          "name": "stdout"
        }
      ]
    },
    {
      "cell_type": "code",
      "metadata": {
        "colab": {
          "base_uri": "https://localhost:8080/"
        },
        "id": "ueN7k4kGcVLV",
        "outputId": "ee152fa2-6473-49c6-ef6f-469c0d7e9b3f"
      },
      "source": [
        "!git clone https://github.com/krishnaik06/Heroku-Demo.git"
      ],
      "execution_count": 9,
      "outputs": [
        {
          "output_type": "stream",
          "text": [
            "Cloning into 'Heroku-Demo'...\n",
            "remote: Enumerating objects: 15, done.\u001b[K\n",
            "remote: Total 15 (delta 0), reused 0 (delta 0), pack-reused 15\u001b[K\n",
            "Unpacking objects: 100% (15/15), done.\n"
          ],
          "name": "stdout"
        }
      ]
    },
    {
      "cell_type": "code",
      "metadata": {
        "colab": {
          "base_uri": "https://localhost:8080/"
        },
        "id": "oqxBbX62cvbk",
        "outputId": "9ac3413d-b0d1-46dd-84fe-bcf0ecdd113b"
      },
      "source": [
        "%ls"
      ],
      "execution_count": 10,
      "outputs": [
        {
          "output_type": "stream",
          "text": [
            "\u001b[0m\u001b[01;34mHeroku-Demo\u001b[0m/\n"
          ],
          "name": "stdout"
        }
      ]
    },
    {
      "cell_type": "code",
      "metadata": {
        "colab": {
          "base_uri": "https://localhost:8080/"
        },
        "id": "iYydAWJ5cxZt",
        "outputId": "092111b3-6cb6-4314-c05f-652ccd8cda98"
      },
      "source": [
        "%cd Heroku-Demo/"
      ],
      "execution_count": 11,
      "outputs": [
        {
          "output_type": "stream",
          "text": [
            "/content/drive/My Drive/Data Science/github/Heroku-Demo\n"
          ],
          "name": "stdout"
        }
      ]
    },
    {
      "cell_type": "code",
      "metadata": {
        "colab": {
          "base_uri": "https://localhost:8080/"
        },
        "id": "4D07ukIPczxi",
        "outputId": "01ca509e-515e-4c38-b878-cd8191d91c50"
      },
      "source": [
        "%ls"
      ],
      "execution_count": 12,
      "outputs": [
        {
          "output_type": "stream",
          "text": [
            "app.py   model.pkl  Procfile   request.py        \u001b[0m\u001b[01;34mtemplates\u001b[0m/\n",
            "LICENSE  model.py   README.md  requirements.txt\n"
          ],
          "name": "stdout"
        }
      ]
    },
    {
      "cell_type": "code",
      "metadata": {
        "colab": {
          "base_uri": "https://localhost:8080/"
        },
        "id": "2s_DYGTic00V",
        "outputId": "1ece3477-8337-4f61-ebd2-467feca00ffc"
      },
      "source": [
        "%ls -a"
      ],
      "execution_count": 13,
      "outputs": [
        {
          "output_type": "stream",
          "text": [
            "app.py  .gitignore  model.pkl  Procfile   request.py        \u001b[0m\u001b[01;34mtemplates\u001b[0m/\n",
            "\u001b[01;34m.git\u001b[0m/   LICENSE     model.py   README.md  requirements.txt\n"
          ],
          "name": "stdout"
        }
      ]
    },
    {
      "cell_type": "code",
      "metadata": {
        "id": "rB8wiPeIdA9N"
      },
      "source": [
        ""
      ],
      "execution_count": null,
      "outputs": []
    }
  ]
}